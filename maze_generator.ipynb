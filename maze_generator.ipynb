{
 "cells": [
  {
   "cell_type": "code",
   "execution_count": 1,
   "id": "d8b70081",
   "metadata": {},
   "outputs": [],
   "source": [
    "row_size = 5\n",
    "column_size = 10 \n",
    "algo_name = \"GrowingTree\""
   ]
  },
  {
   "cell_type": "code",
   "execution_count": 2,
   "id": "3c080d32",
   "metadata": {},
   "outputs": [],
   "source": [
    "from mazelib import Maze\n",
    "from mazelib.generate.AldousBroder import AldousBroder\n",
    "from mazelib.generate.BacktrackingGenerator import BacktrackingGenerator\n",
    "from mazelib.generate.BinaryTree import BinaryTree\n",
    "from mazelib.generate.CellularAutomaton import CellularAutomaton\n",
    "from mazelib.generate.Division import Division\n",
    "from mazelib.generate.Ellers import Ellers\n",
    "from mazelib.generate.GrowingTree import GrowingTree\n",
    "from mazelib.generate.HuntAndKill import HuntAndKill\n",
    "from mazelib.generate.Kruskal import Kruskal\n",
    "from mazelib.generate.Prims import Prims\n",
    "from mazelib.generate.Sidewinder import Sidewinder\n",
    "from mazelib.generate.TrivialMaze import TrivialMaze\n",
    "from mazelib.generate.Wilsons import Wilsons"
   ]
  },
  {
   "cell_type": "code",
   "execution_count": 3,
   "id": "4ec4f038",
   "metadata": {},
   "outputs": [],
   "source": [
    "import sys\n",
    "import os\n",
    "import fileinput"
   ]
  },
  {
   "cell_type": "code",
   "execution_count": 4,
   "id": "3c5aec99",
   "metadata": {},
   "outputs": [],
   "source": [
    "def generate_maze(row_size, column_size, name):\n",
    "    if os.path.exists(\"output.txt\"):\n",
    "        os.remove(\"output.txt\")\n",
    "        \n",
    "    filepath = \"output.txt\"\n",
    "    sys.stdout = open(filepath, \"w\")\n",
    "    \n",
    "    if (name == \"AldousBroder\"):\n",
    "        m = Maze()\n",
    "        m.generator = AldousBroder(row_size, column_size)\n",
    "        m.generate()\n",
    "    elif (name == \"BacktrackingGenerator\"):\n",
    "        m = Maze()\n",
    "        m.generator = BacktrackingGenerator(row_size, column_size)\n",
    "        m.generate()\n",
    "    elif (name == \"BinaryTree\"):\n",
    "        m = Maze()\n",
    "        m.generator = BinaryTree(row_size, column_size)\n",
    "        m.generate()\n",
    "    elif (name == \"CellularAutomaton\"):\n",
    "        m = Maze()\n",
    "        m.generator = CellularAutomaton(row_size, column_size)\n",
    "        m.generate()\n",
    "    elif (name == \"Division\"):\n",
    "        m = Maze()\n",
    "        m.generator = Division(row_size, column_size)\n",
    "        m.generate()\n",
    "    elif (name == \"DungeonRooms\"):\n",
    "        m = Maze()\n",
    "        m.generator = DungeonRooms(row_size, column_size)\n",
    "        m.generate()\n",
    "    elif (name == \"Ellers\"):\n",
    "        m = Maze()\n",
    "        m.generator = Ellers(row_size, column_size)\n",
    "        m.generate()\n",
    "    elif (name == \"GrowingTree\"):\n",
    "        m = Maze()\n",
    "        m.generator = GrowingTree(row_size, column_size)\n",
    "        m.generate()\n",
    "    elif (name == \"HuntAndKill\"):\n",
    "        m = Maze()\n",
    "        m.generator = HuntAndKill(row_size, column_size)\n",
    "        m.generate()\n",
    "    elif (name == \"Kruskal\"):\n",
    "        m = Maze()\n",
    "        m.generator = Kruskal(row_size, column_size)\n",
    "        m.generate()\n",
    "    elif (name == \"Prims\"):\n",
    "        m = Maze()\n",
    "        m.generator = Prims(row_size, column_size)\n",
    "        m.generate()\n",
    "    elif (name == \"Sidewinder\"):\n",
    "        m = Maze()\n",
    "        m.generator = Sidewinder(row_size, column_size)\n",
    "        m.generate()\n",
    "    elif (name == \"TrivialMaze\"):\n",
    "        m = Maze()\n",
    "        m.generator = TrivialMaze(row_size, column_size)\n",
    "        m.generate()\n",
    "    elif (name == \"Wilsons\"):\n",
    "        m = Maze()\n",
    "        m.generator = Wilsons(row_size, column_size)\n",
    "        m.generate()\n",
    "        \n",
    "    print(m)"
   ]
  },
  {
   "cell_type": "code",
   "execution_count": 5,
   "id": "0931187a",
   "metadata": {},
   "outputs": [],
   "source": [
    "generate_maze(row_size,column_size,algo_name)"
   ]
  },
  {
   "cell_type": "code",
   "execution_count": 6,
   "id": "3049efa1",
   "metadata": {},
   "outputs": [],
   "source": [
    "def convert_to_bin():\n",
    "    x1 = \" \"\n",
    "    y1 = \"0,\"\n",
    "\n",
    "    x2 = \"#\"\n",
    "    y2 = \"1,\" \n",
    "\n",
    "    for l in fileinput.input(files = \"output.txt\"):\n",
    "        l = l.replace(x1, y1)\n",
    "        l = l.replace(x2, y2)\n",
    "        sys.stdout.write(l)"
   ]
  },
  {
   "cell_type": "code",
   "execution_count": 7,
   "id": "ec6255df",
   "metadata": {},
   "outputs": [],
   "source": [
    "def clean_file():\n",
    "    with open('output.txt', 'r') as f:\n",
    "        text = f.read()\n",
    "\n",
    "    with open('output.txt', 'w') as f:\n",
    "        new_text = text.replace('#', '')\n",
    "        f.write(new_text)\n",
    "\n",
    "    with open('output.txt', 'r') as f:\n",
    "        text = f.read()\n",
    "\n",
    "    with open('output.txt', 'w') as f:\n",
    "        new_text = text.replace(' ', '')\n",
    "        f.write(new_text)"
   ]
  },
  {
   "cell_type": "code",
   "execution_count": 8,
   "id": "ca6f3480",
   "metadata": {},
   "outputs": [],
   "source": [
    "convert_to_bin()"
   ]
  },
  {
   "cell_type": "code",
   "execution_count": 9,
   "id": "1b2873ce",
   "metadata": {},
   "outputs": [],
   "source": [
    "clean_file()"
   ]
  },
  {
   "cell_type": "code",
   "execution_count": null,
   "id": "aefb02cf",
   "metadata": {},
   "outputs": [],
   "source": []
  }
 ],
 "metadata": {
  "kernelspec": {
   "display_name": "Python 3 (ipykernel)",
   "language": "python",
   "name": "python3"
  },
  "language_info": {
   "codemirror_mode": {
    "name": "ipython",
    "version": 3
   },
   "file_extension": ".py",
   "mimetype": "text/x-python",
   "name": "python",
   "nbconvert_exporter": "python",
   "pygments_lexer": "ipython3",
   "version": "3.9.7"
  }
 },
 "nbformat": 4,
 "nbformat_minor": 5
}
